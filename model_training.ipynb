{
 "cells": [
  {
   "cell_type": "code",
   "execution_count": null,
   "id": "d302a0c8",
   "metadata": {},
   "outputs": [],
   "source": [
    "import pandas as pd\n",
    "\n",
    "df = pd.read_csv(\"Food_Delivery_Times.csv\") #loads your csv file into dataframe\n",
    "df.isnull().sum()\n",
    "df.dropna(inplace=True) #drops rows with missing values\n",
    "df.head()\n"
   ]
  },
  {
   "cell_type": "code",
   "execution_count": null,
   "id": "c0a4627e",
   "metadata": {},
   "outputs": [],
   "source": [
    "\n",
    "\n",
    "new_data = pd.DataFrame({\n",
    "    'Distance_km': np.random.uniform(1, 20, 100),\n",
    "    'Weather': np.random.choice(['Clear', 'Rainy', 'Windy', 'Foggy'], 100),\n",
    "    'Traffic_Level': np.random.choice(['Low', 'Medium', 'High'], 100),\n",
    "    'Time_of_Day': np.random.choice(['Morning', 'Afternoon', 'Evening', 'Night'], 100),\n",
    "    'Vehicle_Type': np.random.choice(['Bike', 'Scooter'], 100),\n",
    "    'Preparation_Time_min': np.random.randint(5, 30, 100),\n",
    "    'Courier_Experience_yrs': np.random.randint(0, 6, 100),\n",
    "    'Delivery_Time_min': np.random.randint(20, 90, 100)  # You can also model this more accurately\n",
    "})\n",
    "df_combined = pd.concat([df, new_data], ignore_index=True)\n"
   ]
  },
  {
   "cell_type": "code",
   "execution_count": null,
   "id": "36600955",
   "metadata": {},
   "outputs": [],
   "source": [
    "from sklearn.model_selection import train_test_split\n",
    "from sklearn.ensemble import RandomForestRegressor\n",
    "from sklearn.preprocessing import LabelEncoder\n"
   ]
  },
  {
   "cell_type": "code",
   "execution_count": null,
   "id": "73b36ce2",
   "metadata": {},
   "outputs": [],
   "source": [
    "labels = {} #dictionary to hold label encoders for each categorical column\n",
    "for col in ['Weather', 'Traffic_Level','Time_of_Day', 'Vehicle_Type']:\n",
    "    le = LabelEncoder() #create a label encoder instance\n",
    "    df[col] = le.fit_transform(df[col])\n",
    "    labels[col]= le"
   ]
  },
  {
   "cell_type": "code",
   "execution_count": null,
   "id": "a64f5dea",
   "metadata": {},
   "outputs": [],
   "source": [
    "#define features X and Y\n",
    "x = df.drop(['Delivery_Time_min','Order_ID'], axis=1)# i.e --> thing we are gonna use to predict delivery time and order id excluded\n",
    "y = df['Delivery_Time_min'] # i.e --> thing we are gonna predict\n",
    "  \n"
   ]
  },
  {
   "cell_type": "code",
   "execution_count": null,
   "id": "ab383f15",
   "metadata": {},
   "outputs": [],
   "source": [
    "x_train, x_test, y_train, y_test = train_test_split(x, y, test_size=0.2) #splitting data into training and testing sets"
   ]
  },
  {
   "cell_type": "code",
   "execution_count": null,
   "id": "42ed45a6",
   "metadata": {},
   "outputs": [],
   "source": [
    "model = RandomForestRegressor()\n",
    "model.fit(x_train, y_train) #fitting the model with training data"
   ]
  },
  {
   "cell_type": "code",
   "execution_count": null,
   "id": "ff6dd3ae",
   "metadata": {},
   "outputs": [],
   "source": [
    "import pickle #importing pickle to save the model\n",
    "pickle.dump(model, open('model.pkl', 'wb')) #saving the model to a file"
   ]
  },
  {
   "cell_type": "code",
   "execution_count": null,
   "id": "0cac7f08",
   "metadata": {},
   "outputs": [],
   "source": [
    "print(X.columns)"
   ]
  },
  {
   "cell_type": "code",
   "execution_count": null,
   "id": "8df71aec",
   "metadata": {},
   "outputs": [],
   "source": [
    "# Step 1: Define features and sample input\n",
    "features = ['Distance_km','Weather', 'Traffic_Level', 'Time_of_Day', 'Vehicle_Type', \n",
    "            'Preparation_Time_min', 'Courier_Experience_yrs']\n",
    "\n",
    "sample_input = [[7.8, 'Rainy', 'High', 'Evening', 'Bike', 20, 3]]\n",
    "\n",
    "# Step 2: Create the DataFrame FIRST\n",
    "input_df = pd.DataFrame(sample_input, columns=features)\n",
    "\n",
    "# Step 3: Now transform the categorical columns\n",
    "for col in ['Weather', 'Traffic_Level', 'Time_of_Day', 'Vehicle_Type']:\n",
    "    input_df[col] = labels[col].transform(input_df[col])\n",
    "\n",
    "# Step 4: Predict using your trained model\n",
    "prediction = model.predict(input_df)\n",
    "print(\"Predicted Delivery Time:\", prediction[0], \"minutes\")\n"
   ]
  },
  {
   "cell_type": "code",
   "execution_count": null,
   "id": "af7abc9b",
   "metadata": {},
   "outputs": [],
   "source": [
    "# Save the model\n",
    "pickle.dump(model, open(\"model.pkl\", \"wb\"))\n",
    "\n",
    "# Save the label encoder dictionary\n",
    "pickle.dump(labels, open(\"label_encoders.pkl\", \"wb\"))\n"
   ]
  },
  {
   "cell_type": "code",
   "execution_count": null,
   "id": "10e7c846",
   "metadata": {},
   "outputs": [],
   "source": [
    "from sklearn.metrics import mean_absolute_error, mean_squared_error, r2_score\n",
    "import numpy as np\n",
    "\n",
    "# Split your data before this (X_train, X_test, y_train, y_test)\n",
    "\n",
    "# Predict on test set\n",
    "y_pred = model.predict(x_test)\n",
    "\n",
    "\n",
    "mae = mean_absolute_error(y_test, y_pred)\n",
    "mse = mean_squared_error(y_test, y_pred)\n",
    "rmse = np.sqrt(mse)\n",
    "r2 = r2_score(y_test, y_pred)\n",
    "\n",
    "print(f\"📏 Mean Absolute Error (MAE): {mae:.2f} minutes\")\n",
    "print(f\"📐 Mean Squared Error (MSE): {mse:.2f}\")\n",
    "print(f\"🧮 Root Mean Squared Error (RMSE): {rmse:.2f}\")\n",
    "print(f\"🎯 R² Score: {r2:.2f}\")\n"
   ]
  }
 ],
 "metadata": {
  "kernelspec": {
   "display_name": ".venv",
   "language": "python",
   "name": "python3"
  },
  "language_info": {
   "codemirror_mode": {
    "name": "ipython",
    "version": 3
   },
   "file_extension": ".py",
   "mimetype": "text/x-python",
   "name": "python",
   "nbconvert_exporter": "python",
   "pygments_lexer": "ipython3",
   "version": "3.13.3"
  }
 },
 "nbformat": 4,
 "nbformat_minor": 5
}
